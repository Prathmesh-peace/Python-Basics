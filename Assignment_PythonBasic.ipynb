{
 "cells": [
  {
   "cell_type": "code",
   "execution_count": null,
   "id": "e99f60fa-31ba-45d1-8f4a-77d9f4f3a6be",
   "metadata": {},
   "outputs": [],
   "source": [
    "# Python Basic Questions"
   ]
  },
  {
   "cell_type": "code",
   "execution_count": null,
   "id": "aa7565e9-ed86-4d3f-bb27-b926fb4ca6a0",
   "metadata": {},
   "outputs": [],
   "source": [
    "'''  What is Python, and why is it popular ?\n",
    "\n",
    "  -> Python is a high-level, interpreted programming language and it is readable and simple.\n",
    "     It's popular due to its vast libraries, and supportive community.\n",
    "     \n",
    "'''"
   ]
  },
  {
   "cell_type": "code",
   "execution_count": null,
   "id": "ed479df3-57b3-483b-8037-e93967b484eb",
   "metadata": {},
   "outputs": [],
   "source": [
    "''' What is an interpreter in Python ?\n",
    "\n",
    " -> An interpreter executes Python code line by line, translating it into machine code during runtime. \n",
    "    It allows for quick testing and debugging.\n",
    "\n",
    "'''"
   ]
  },
  {
   "cell_type": "code",
   "execution_count": null,
   "id": "a51d3b8c-7185-4e30-9043-5e12281e941f",
   "metadata": {},
   "outputs": [],
   "source": [
    "''' What are pre-defined keywords in Python ?\n",
    "\n",
    " -> Keywords are reserved words in Python that have special meanings, like if, for, class, and return. \n",
    "    They can't be used for variable names.\n",
    "\n",
    "'''"
   ]
  },
  {
   "cell_type": "code",
   "execution_count": null,
   "id": "20279fe8-ebdf-4923-ab64-f1faa825d583",
   "metadata": {},
   "outputs": [],
   "source": [
    "''' Can keywords be used as variable names ?\n",
    "\n",
    " -> No, keywords cannot be used as variable names because they are reserved for specific syntax and functions in Python.\n",
    "\n",
    "''' "
   ]
  },
  {
   "cell_type": "code",
   "execution_count": null,
   "id": "b1fdc8f2-b111-4187-b601-58c4cebf9ecb",
   "metadata": {},
   "outputs": [],
   "source": [
    "''' What is mutability in Python ?\n",
    "\n",
    " -> Objects/Containers whose state or value can be changed after they are created, called mutable objects.\n",
    "    In python, lists are mutable object and strings are immutable object.\n",
    "\n",
    "'''"
   ]
  },
  {
   "cell_type": "code",
   "execution_count": null,
   "id": "553966ac-eb63-4d51-93bf-700a503d956f",
   "metadata": {},
   "outputs": [],
   "source": [
    "''' Why are lists mutable, but tuples are immutable ?\n",
    "\n",
    " -> Lists are designed to be dynamic and allow modifications, while tuples are meant for fixed collections of items, \n",
    "    making them immutable by design.\n",
    "\n",
    "'''"
   ]
  },
  {
   "cell_type": "code",
   "execution_count": null,
   "id": "dbf66213-62a9-4e0e-b800-551df8f765b5",
   "metadata": {},
   "outputs": [],
   "source": [
    "'''  What is the difference between “==” and “is” operators in Python ?\n",
    "\n",
    "  -> '==' checks if values/Operands are equal, while 'is' checks if two variables refer to the same object in memory."
   ]
  },
  {
   "cell_type": "code",
   "execution_count": null,
   "id": "87aef3dd-4e00-48bd-b6cc-3f3511d656c7",
   "metadata": {},
   "outputs": [],
   "source": [
    "'''  What are logical operators in Python ?\n",
    "\n",
    "  -> Logical operators (and, or, not) are used to combine conditional statements and return Boolean values True or false."
   ]
  },
  {
   "cell_type": "code",
   "execution_count": null,
   "id": "8e9d607e-605e-448c-aec5-ae8e0c2ae258",
   "metadata": {},
   "outputs": [],
   "source": [
    "''' What is type casting in Python ?\n",
    "\n",
    " -> Type casting converts a variable from one data type to another, such as from int to float or str and viceversa\n",
    "\n",
    "'''"
   ]
  },
  {
   "cell_type": "code",
   "execution_count": null,
   "id": "434640c0-adc4-4af7-9497-b051369c0673",
   "metadata": {},
   "outputs": [],
   "source": [
    "'''  What is the difference between implicit and explicit type casting ?\n",
    "\n",
    "  -> Implicit casting is done automatically by Python, while explicit casting is done manually using functions like int(), float(), or str().\n",
    "\n",
    "'''"
   ]
  },
  {
   "cell_type": "code",
   "execution_count": null,
   "id": "d90f88aa-6097-4861-8853-e88aff5d7fb5",
   "metadata": {},
   "outputs": [],
   "source": [
    "'''  What is the purpose of conditional statements in Python ?\n",
    "\n",
    "  -> Conditional statements allow Python to make decisions and execute code based on whether a condition is true or false.\n",
    "     keywords like if, else, and elif are used make conditional statements.\n",
    "\n",
    "'''"
   ]
  },
  {
   "cell_type": "code",
   "execution_count": null,
   "id": "23468896-104c-4543-9081-f521b334c4c7",
   "metadata": {},
   "outputs": [],
   "source": [
    "''' How does the elif statement work ?\n",
    "\n",
    " -> elif lets you check multiple conditions in sequence after an if. It only runs if the 'if' and any previous elif conditions are false.\n",
    "\n",
    "''' "
   ]
  },
  {
   "cell_type": "code",
   "execution_count": null,
   "id": "ccd0ccc0-8fa9-406a-93ef-bfcddc1c0735",
   "metadata": {},
   "outputs": [],
   "source": [
    "''' What is the difference between for and while loops ? \n",
    "\n",
    " -> A for loop is used for iterating over a sequence, while a while loop continues running as long as a condition is true.\n",
    "\n",
    "''' "
   ]
  },
  {
   "cell_type": "code",
   "execution_count": null,
   "id": "f4cb1b50-c8fa-48e5-b3c8-df603fc49c79",
   "metadata": {},
   "outputs": [],
   "source": [
    "''' Describe a scenario where a while loop is more suitable than a for loop ? \n",
    "\n",
    " -> Use a while loop when the number of iterations isn’t known in advance, like reading input until a user types \"exit.\n",
    "\n",
    "''' "
   ]
  },
  {
   "cell_type": "code",
   "execution_count": null,
   "id": "adfefa4c-5bfd-4582-bc8e-9b9d69d1c14a",
   "metadata": {},
   "outputs": [],
   "source": [
    "# Python Practical Questions"
   ]
  },
  {
   "cell_type": "code",
   "execution_count": 5,
   "id": "91312e6d-f831-4f96-a331-9c74217d6eaa",
   "metadata": {},
   "outputs": [
    {
     "name": "stdout",
     "output_type": "stream",
     "text": [
      "Hello, World!\n"
     ]
    }
   ],
   "source": [
    "# Write a Python program to print \"Hello, World!\".\n",
    "\n",
    "print(\"Hello, World!\")"
   ]
  },
  {
   "cell_type": "code",
   "execution_count": 6,
   "id": "889e2bec-9403-4757-b744-f2ee99b98319",
   "metadata": {},
   "outputs": [
    {
     "name": "stdin",
     "output_type": "stream",
     "text": [
      "What's your name ? :  Prathmesh\n",
      "What's your age ? :  20\n"
     ]
    }
   ],
   "source": [
    "# Write a Python program that displays your name and age.\n",
    "\n",
    "name = input(\"What's your name ? : \")\n",
    "age = int(input(\"What's your age ? : \"))"
   ]
  },
  {
   "cell_type": "code",
   "execution_count": 7,
   "id": "4fcb9306-2a47-42dc-95fc-e0f54a5864e4",
   "metadata": {},
   "outputs": [
    {
     "name": "stdout",
     "output_type": "stream",
     "text": [
      "\n",
      "Here is a list of the Python keywords.  Enter any keyword to get more help.\n",
      "\n",
      "False               class               from                or\n",
      "None                continue            global              pass\n",
      "True                def                 if                  raise\n",
      "and                 del                 import              return\n",
      "as                  elif                in                  try\n",
      "assert              else                is                  while\n",
      "async               except              lambda              with\n",
      "await               finally             nonlocal            yield\n",
      "break               for                 not                 \n",
      "\n"
     ]
    }
   ],
   "source": [
    "#  Write code to print all the pre-defined keywords in Python using the keyword library.\n",
    "\n",
    "help('keywords')"
   ]
  },
  {
   "cell_type": "code",
   "execution_count": 11,
   "id": "2c4c4444-4a5f-406b-ab0d-e2f7804dbea5",
   "metadata": {},
   "outputs": [
    {
     "name": "stdin",
     "output_type": "stream",
     "text": [
      "Enter a word to check it is python keyword or not :  on\n"
     ]
    },
    {
     "name": "stdout",
     "output_type": "stream",
     "text": [
      "'on' is not a Python keyword.\n"
     ]
    }
   ],
   "source": [
    "# Write a program that checks if a given word is a Python keyword\n",
    "\n",
    "import keyword\n",
    "word = input(\"Enter a word to check it is python keyword or not : \")\n",
    "if keyword.iskeyword(word):\n",
    "    print(f\"'{word}' is a Python keyword.\")\n",
    "else :\n",
    "    print(f\"'{word}' is not a Python keyword.\")"
   ]
  },
  {
   "cell_type": "code",
   "execution_count": 13,
   "id": "bd4dc4e1-20a3-4cf4-adf1-0542cc26eb11",
   "metadata": {},
   "outputs": [
    {
     "name": "stdout",
     "output_type": "stream",
     "text": [
      "Modified list: [10, 99, 30]\n"
     ]
    }
   ],
   "source": [
    "#  Create a list and tuple in Python, and demonstrate how attempting to change an element works differently \n",
    "# for each.\n",
    "\n",
    "my_list = [10, 20, 30]\n",
    "my_tuple = (10, 20, 30)\n",
    "\n",
    "my_list[1] = 99\n",
    "print(\"Modified list:\", my_list)"
   ]
  },
  {
   "cell_type": "code",
   "execution_count": 14,
   "id": "2cf57809-c2a1-4b1d-aebc-41dbda000112",
   "metadata": {},
   "outputs": [
    {
     "ename": "TypeError",
     "evalue": "'tuple' object does not support item assignment",
     "output_type": "error",
     "traceback": [
      "\u001b[1;31m---------------------------------------------------------------------------\u001b[0m",
      "\u001b[1;31mTypeError\u001b[0m                                 Traceback (most recent call last)",
      "Cell \u001b[1;32mIn[14], line 1\u001b[0m\n\u001b[1;32m----> 1\u001b[0m my_tuple[\u001b[38;5;241m1\u001b[39m] \u001b[38;5;241m=\u001b[39m \u001b[38;5;241m60\u001b[39m\n\u001b[0;32m      2\u001b[0m \u001b[38;5;28mprint\u001b[39m(\u001b[38;5;124m\"\u001b[39m\u001b[38;5;124mModified tuple:\u001b[39m\u001b[38;5;124m\"\u001b[39m, my_tuple)\n",
      "\u001b[1;31mTypeError\u001b[0m: 'tuple' object does not support item assignment"
     ]
    }
   ],
   "source": [
    "my_tuple[1] = 60\n",
    "print(\"Modified tuple:\", my_tuple)"
   ]
  },
  {
   "cell_type": "code",
   "execution_count": 15,
   "id": "b8de6588-2c1c-41c7-9fe6-34249f169096",
   "metadata": {},
   "outputs": [
    {
     "name": "stdout",
     "output_type": "stream",
     "text": [
      "modified list :  [10, 20, 60, 6.9]\n"
     ]
    }
   ],
   "source": [
    "# Write a function to demonstrate the behavior of mutable and immutable arguments.\n",
    "# -> lists are mutable object and strings are immutable\n",
    "\n",
    "my_list = [10, 20, \"prathmesh\", 6.9]\n",
    "s = \"prathmesh\"\n",
    "\n",
    "my_list[2] = 60\n",
    "print(\"modified list : \", my_list)"
   ]
  },
  {
   "cell_type": "code",
   "execution_count": 16,
   "id": "1a248f07-52ab-47fd-b65a-da029ad99574",
   "metadata": {},
   "outputs": [
    {
     "ename": "TypeError",
     "evalue": "'str' object does not support item assignment",
     "output_type": "error",
     "traceback": [
      "\u001b[1;31m---------------------------------------------------------------------------\u001b[0m",
      "\u001b[1;31mTypeError\u001b[0m                                 Traceback (most recent call last)",
      "Cell \u001b[1;32mIn[16], line 1\u001b[0m\n\u001b[1;32m----> 1\u001b[0m s[\u001b[38;5;241m2\u001b[39m] \u001b[38;5;241m=\u001b[39m \u001b[38;5;124m'\u001b[39m\u001b[38;5;124me\u001b[39m\u001b[38;5;124m'\u001b[39m\n\u001b[0;32m      2\u001b[0m \u001b[38;5;28mprint\u001b[39m(\u001b[38;5;124m\"\u001b[39m\u001b[38;5;124mmodified string : \u001b[39m\u001b[38;5;124m\"\u001b[39m, s)\n",
      "\u001b[1;31mTypeError\u001b[0m: 'str' object does not support item assignment"
     ]
    }
   ],
   "source": [
    "s[2] = 'e'\n",
    "print(\"modified string : \", s)"
   ]
  },
  {
   "cell_type": "code",
   "execution_count": 22,
   "id": "b21e5ea9-5781-46d1-ba6a-125e8c54b539",
   "metadata": {},
   "outputs": [
    {
     "name": "stdin",
     "output_type": "stream",
     "text": [
      "Enter 1st number :  34 \n",
      "Enter 2nd number :  17\n"
     ]
    },
    {
     "name": "stdout",
     "output_type": "stream",
     "text": [
      "\n",
      "Addition of a and b is :  51\n",
      "subtraction of a and b is :  17\n",
      "multiplication of a and b is :  578\n",
      "division of a and b is :  2.0\n"
     ]
    }
   ],
   "source": [
    "#  Write a program that performs basic arithmetic operations on two user-input numbers\n",
    "\n",
    "a = int(input(\"Enter 1st number : \"))\n",
    "b = int(input(\"Enter 2nd number : \"))\n",
    "print()\n",
    "print(\"Addition of a and b is : \", a+b)\n",
    "print(\"subtraction of a and b is : \", a-b)\n",
    "print(\"multiplication of a and b is : \", a*b)\n",
    "print(\"division of a and b is : \", a/b)"
   ]
  },
  {
   "cell_type": "code",
   "execution_count": 23,
   "id": "b512b88f-cfa3-42e2-8d19-9a55203aee20",
   "metadata": {},
   "outputs": [
    {
     "name": "stdin",
     "output_type": "stream",
     "text": [
      "Enter first number:  34\n",
      "Enter second number:  -90\n"
     ]
    },
    {
     "name": "stdout",
     "output_type": "stream",
     "text": [
      "At least one number is not positive.\n",
      "At least one number is positive.\n",
      "At least one number is negative.\n"
     ]
    }
   ],
   "source": [
    "# Write a program to demonstrate the use of logical operators.\n",
    "\n",
    "a = int(input(\"Enter first number: \"))\n",
    "b = int(input(\"Enter second number: \"))\n",
    "\n",
    "# logical AND\n",
    "if a > 0 and b > 0:\n",
    "    print(\"Both numbers are positive.\")\n",
    "else:\n",
    "    print(\"At least one number is not positive.\")\n",
    "\n",
    "# logical OR\n",
    "if a > 0 or b > 0:\n",
    "    print(\"At least one number is positive.\")\n",
    "else:\n",
    "    print(\"Neither number is positive.\")\n",
    "\n",
    "# logical NOT\n",
    "if not (a < 0 or b < 0):\n",
    "    print(\"Neither number is negative.\")\n",
    "else:\n",
    "    print(\"At least one number is negative.\")"
   ]
  },
  {
   "cell_type": "code",
   "execution_count": 27,
   "id": "aca81e11-c9dc-4a29-9aa6-dae92ff644a6",
   "metadata": {},
   "outputs": [
    {
     "name": "stdin",
     "output_type": "stream",
     "text": [
      "Enter a number :  -45\n"
     ]
    },
    {
     "name": "stdout",
     "output_type": "stream",
     "text": [
      "-45\n",
      "-45.0\n",
      "True\n"
     ]
    }
   ],
   "source": [
    "# Write a Python program to convert user input from string to integer, float, and boolean types\n",
    "\n",
    "a = input(\"Enter a number : \")\n",
    "\n",
    "print(int(a))\n",
    "print(float(a))\n",
    "print(bool(a))"
   ]
  },
  {
   "cell_type": "code",
   "execution_count": 31,
   "id": "6cf0e4f8-6378-4824-b914-9a5e939cc7ee",
   "metadata": {},
   "outputs": [
    {
     "name": "stdout",
     "output_type": "stream",
     "text": [
      "Modified list =  [10.0, '30', False, 'prathmesh', -56]\n"
     ]
    }
   ],
   "source": [
    "# Write code to demonstrate type casting with list elements.\n",
    "\n",
    "my_list = [10, 30, 0, \"prathmesh\", -56]\n",
    "\n",
    "my_list[1] = str(my_list[1])\n",
    "my_list[0] = float(my_list[0])\n",
    "my_list[2] = bool(my_list[2])\n",
    "\n",
    "print(\"Modified list = \", my_list)"
   ]
  },
  {
   "cell_type": "code",
   "execution_count": 35,
   "id": "f7d486b2-7776-45c2-bed8-7d025aa1b521",
   "metadata": {},
   "outputs": [
    {
     "name": "stdin",
     "output_type": "stream",
     "text": [
      "Enter a number :  56\n"
     ]
    },
    {
     "name": "stdout",
     "output_type": "stream",
     "text": [
      "the number is positive\n"
     ]
    }
   ],
   "source": [
    "# Write a program that checks if a number is positive, negative, or zero.\n",
    "\n",
    "a = int(input(\"Enter a number : \"))\n",
    "\n",
    "if a > 0 :\n",
    "    print(\"the number is positive\")\n",
    "elif a < 0 :\n",
    "    print(\"the number is negative\")\n",
    "else :\n",
    "    print(\"the number is zero\")"
   ]
  },
  {
   "cell_type": "code",
   "execution_count": 36,
   "id": "e388b538-84b8-437f-9e8a-0e258748dc9f",
   "metadata": {},
   "outputs": [
    {
     "name": "stdout",
     "output_type": "stream",
     "text": [
      "1 2 3 4 5 6 7 8 9 10 "
     ]
    }
   ],
   "source": [
    "# Write a for loop to print numbers from 1 to 10.\n",
    "\n",
    "for i in range(10) :\n",
    "    print(i+1, end = \" \")"
   ]
  },
  {
   "cell_type": "code",
   "execution_count": 38,
   "id": "01527a99-fc95-4c8b-bf22-a21fabce5070",
   "metadata": {},
   "outputs": [
    {
     "name": "stdout",
     "output_type": "stream",
     "text": [
      "650\n"
     ]
    }
   ],
   "source": [
    "# Write a Python program to find the sum of all even numbers between 1 and 50\n",
    "sum = 0\n",
    "for i in range(0, 51, 2) :\n",
    "    sum += i\n",
    "print(sum)"
   ]
  },
  {
   "cell_type": "code",
   "execution_count": 42,
   "id": "cf78dfa7-dbbb-4324-8b2e-2c79e44f5197",
   "metadata": {},
   "outputs": [
    {
     "name": "stdout",
     "output_type": "stream",
     "text": [
      "hsemhtarp\n"
     ]
    }
   ],
   "source": [
    "# Write a program to reverse a string using a while loop.\n",
    "\n",
    "s = \"prathmesh\"\n",
    "rev = \"\"\n",
    "j = len(s)-1\n",
    "while j >= 0 :\n",
    "    rev += s[j]\n",
    "    j -= 1\n",
    "print(rev)"
   ]
  },
  {
   "cell_type": "code",
   "execution_count": 49,
   "id": "8f6b2c0b-fa22-4f9b-bf1b-8759ea7cb0a3",
   "metadata": {},
   "outputs": [
    {
     "name": "stdin",
     "output_type": "stream",
     "text": [
      "Enter a number :  6\n"
     ]
    },
    {
     "name": "stdout",
     "output_type": "stream",
     "text": [
      "factorial of given number is :  720\n"
     ]
    }
   ],
   "source": [
    "# Write a Python program to calculate the factorial of a number provided by the user using a while loop\n",
    "n = int(input(\"Enter a number : \"))\n",
    "if n == 0 or n == 1 : print(\"factorial is : \", 1)\n",
    "fact = 1\n",
    "j = n\n",
    "while j > 0 :\n",
    "    fact *= j\n",
    "    j -= 1\n",
    "print(\"factorial of given number is : \", fact)"
   ]
  }
 ],
 "metadata": {
  "kernelspec": {
   "display_name": "Python 3 (ipykernel)",
   "language": "python",
   "name": "python3"
  },
  "language_info": {
   "codemirror_mode": {
    "name": "ipython",
    "version": 3
   },
   "file_extension": ".py",
   "mimetype": "text/x-python",
   "name": "python",
   "nbconvert_exporter": "python",
   "pygments_lexer": "ipython3",
   "version": "3.13.5"
  }
 },
 "nbformat": 4,
 "nbformat_minor": 5
}
